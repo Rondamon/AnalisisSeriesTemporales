{
 "cells": [
  {
   "cell_type": "markdown",
   "metadata": {},
   "source": [
    "<center><h1>Time series analysis</h1></center>\n",
    "<center><h2>Tutorial 2: Forecasting</h2></center>\n",
    "<br>\n",
    "\n",
    "This tutorial we study the practical application of basic forecasting methods in Python. \n",
    "\n",
    "<a class=\"buttom\" href=\">#Data:-Australian-CPI-Inflation\">Data: Australian CPI inflation</a> <br>\n",
    "<a class=\"buttom\" href=\"#Exploratory-data-analysis\">Exploratory data analysis</a> <br>\n",
    "<a class=\"buttom\" href=\"#Random-Walk\">Random Walk</a> <br>\n",
    "<a class=\"buttom\" href=\"#Simple-Exponential-Smoothing\">Simple Exponential Smoothing</a> <br>\n",
    "<a class=\"buttom\" href=\"#Model-diagnostics\">Model diagnostics</a> <br>\n",
    "<a class=\"buttom\" href=\"#Model-validation\">Model validation</a> <br>\n",
    "<a class=\"buttom\" href=\"#Forecast\">Forecast</a> <br>\n",
    "\n",
    "Based in the work of Marcel Scharth http://www.marcelscharth.com/\n",
    "\n",
    "This notebook relies on the following imports and settings."
   ]
  },
  {
   "cell_type": "code",
   "execution_count": 1,
   "metadata": {},
   "outputs": [],
   "source": [
    "# Packages\n",
    "import numpy as np\n",
    "from scipy import stats\n",
    "import pandas as pd\n",
    "import matplotlib.pyplot as plt\n",
    "import seaborn as sns\n",
    "import statsmodels.api as sm"
   ]
  },
  {
   "cell_type": "code",
   "execution_count": 2,
   "metadata": {},
   "outputs": [],
   "source": [
    "# Plot settings\n",
    "sns.set_context('notebook') \n",
    "sns.set_style('ticks')\n",
    "red='#D62728'\n",
    "blue='#1F77B4'\n",
    "%matplotlib inline"
   ]
  },
  {
   "cell_type": "code",
   "execution_count": 3,
   "metadata": {},
   "outputs": [],
   "source": [
    "plt.rcParams['figure.figsize'] = [15, 10]"
   ]
  },
  {
   "cell_type": "markdown",
   "metadata": {},
   "source": [
    "## Data: Datos Telefonia Movil\n"
   ]
  },
  {
   "cell_type": "code",
   "execution_count": 4,
   "metadata": {
    "scrolled": true
   },
   "outputs": [
    {
     "data": {
      "text/html": [
       "<div>\n",
       "<style scoped>\n",
       "    .dataframe tbody tr th:only-of-type {\n",
       "        vertical-align: middle;\n",
       "    }\n",
       "\n",
       "    .dataframe tbody tr th {\n",
       "        vertical-align: top;\n",
       "    }\n",
       "\n",
       "    .dataframe thead th {\n",
       "        text-align: right;\n",
       "    }\n",
       "</style>\n",
       "<table border=\"1\" class=\"dataframe\">\n",
       "  <thead>\n",
       "    <tr style=\"text-align: right;\">\n",
       "      <th></th>\n",
       "      <th>Año</th>\n",
       "      <th>Trimestre</th>\n",
       "      <th>Minutos pospago salientes (miles)</th>\n",
       "      <th>Minutos prepago salientes (miles)</th>\n",
       "      <th>Total de minutos salientes (miles)</th>\n",
       "      <th>Periodo</th>\n",
       "    </tr>\n",
       "  </thead>\n",
       "  <tbody>\n",
       "    <tr>\n",
       "      <th>0</th>\n",
       "      <td>2013</td>\n",
       "      <td>1</td>\n",
       "      <td>8785943</td>\n",
       "      <td>6582117</td>\n",
       "      <td>15368060</td>\n",
       "      <td>Ene-Mar 2013</td>\n",
       "    </tr>\n",
       "    <tr>\n",
       "      <th>1</th>\n",
       "      <td>2013</td>\n",
       "      <td>2</td>\n",
       "      <td>9512689</td>\n",
       "      <td>7108640</td>\n",
       "      <td>16621329</td>\n",
       "      <td>Abr-Jun 2013</td>\n",
       "    </tr>\n",
       "    <tr>\n",
       "      <th>2</th>\n",
       "      <td>2013</td>\n",
       "      <td>3</td>\n",
       "      <td>10315484</td>\n",
       "      <td>7335154</td>\n",
       "      <td>17650638</td>\n",
       "      <td>Jul-Sept 2013</td>\n",
       "    </tr>\n",
       "    <tr>\n",
       "      <th>3</th>\n",
       "      <td>2013</td>\n",
       "      <td>4</td>\n",
       "      <td>9809515</td>\n",
       "      <td>6250549</td>\n",
       "      <td>16060064</td>\n",
       "      <td>Oct-Dic 2013</td>\n",
       "    </tr>\n",
       "    <tr>\n",
       "      <th>4</th>\n",
       "      <td>2014</td>\n",
       "      <td>1</td>\n",
       "      <td>10128751</td>\n",
       "      <td>5799223</td>\n",
       "      <td>15927974</td>\n",
       "      <td>Ene-Mar 2013</td>\n",
       "    </tr>\n",
       "    <tr>\n",
       "      <th>5</th>\n",
       "      <td>2014</td>\n",
       "      <td>2</td>\n",
       "      <td>10821463</td>\n",
       "      <td>6438071</td>\n",
       "      <td>17259534</td>\n",
       "      <td>Abr-Jun 2014</td>\n",
       "    </tr>\n",
       "    <tr>\n",
       "      <th>6</th>\n",
       "      <td>2014</td>\n",
       "      <td>3</td>\n",
       "      <td>11524344</td>\n",
       "      <td>7179152</td>\n",
       "      <td>18703495</td>\n",
       "      <td>Jul-Sept 2014</td>\n",
       "    </tr>\n",
       "    <tr>\n",
       "      <th>7</th>\n",
       "      <td>2014</td>\n",
       "      <td>4</td>\n",
       "      <td>11997330</td>\n",
       "      <td>7147630</td>\n",
       "      <td>19144961</td>\n",
       "      <td>Oct-Dic 2014</td>\n",
       "    </tr>\n",
       "    <tr>\n",
       "      <th>8</th>\n",
       "      <td>2015</td>\n",
       "      <td>1</td>\n",
       "      <td>10273637</td>\n",
       "      <td>6480172</td>\n",
       "      <td>16753809</td>\n",
       "      <td>Ene-Mar 2015</td>\n",
       "    </tr>\n",
       "    <tr>\n",
       "      <th>9</th>\n",
       "      <td>2015</td>\n",
       "      <td>2</td>\n",
       "      <td>11226576</td>\n",
       "      <td>6579819</td>\n",
       "      <td>17806395</td>\n",
       "      <td>Abr-Jun 2015</td>\n",
       "    </tr>\n",
       "  </tbody>\n",
       "</table>\n",
       "</div>"
      ],
      "text/plain": [
       "    Año  Trimestre  Minutos pospago salientes (miles)  \\\n",
       "0  2013          1                            8785943   \n",
       "1  2013          2                            9512689   \n",
       "2  2013          3                           10315484   \n",
       "3  2013          4                            9809515   \n",
       "4  2014          1                           10128751   \n",
       "5  2014          2                           10821463   \n",
       "6  2014          3                           11524344   \n",
       "7  2014          4                           11997330   \n",
       "8  2015          1                           10273637   \n",
       "9  2015          2                           11226576   \n",
       "\n",
       "   Minutos prepago salientes (miles)  Total de minutos salientes (miles)  \\\n",
       "0                            6582117                            15368060   \n",
       "1                            7108640                            16621329   \n",
       "2                            7335154                            17650638   \n",
       "3                            6250549                            16060064   \n",
       "4                            5799223                            15927974   \n",
       "5                            6438071                            17259534   \n",
       "6                            7179152                            18703495   \n",
       "7                            7147630                            19144961   \n",
       "8                            6480172                            16753809   \n",
       "9                            6579819                            17806395   \n",
       "\n",
       "         Periodo  \n",
       "0   Ene-Mar 2013  \n",
       "1   Abr-Jun 2013  \n",
       "2  Jul-Sept 2013  \n",
       "3   Oct-Dic 2013  \n",
       "4   Ene-Mar 2013  \n",
       "5   Abr-Jun 2014  \n",
       "6  Jul-Sept 2014  \n",
       "7   Oct-Dic 2014  \n",
       "8   Ene-Mar 2015  \n",
       "9   Abr-Jun 2015  "
      ]
     },
     "execution_count": 4,
     "metadata": {},
     "output_type": "execute_result"
    }
   ],
   "source": [
    "data=pd.read_csv('datasets/Telefonia_movil.csv', parse_dates=True, dayfirst=True, thousands='.')#index_col=['Año', 'Trimestre'],)# parse_dates=True, dayfirst=True)\n",
    "data.head(10)"
   ]
  },
  {
   "cell_type": "code",
   "execution_count": 5,
   "metadata": {},
   "outputs": [
    {
     "data": {
      "text/html": [
       "<div>\n",
       "<style scoped>\n",
       "    .dataframe tbody tr th:only-of-type {\n",
       "        vertical-align: middle;\n",
       "    }\n",
       "\n",
       "    .dataframe tbody tr th {\n",
       "        vertical-align: top;\n",
       "    }\n",
       "\n",
       "    .dataframe thead th {\n",
       "        text-align: right;\n",
       "    }\n",
       "</style>\n",
       "<table border=\"1\" class=\"dataframe\">\n",
       "  <thead>\n",
       "    <tr style=\"text-align: right;\">\n",
       "      <th></th>\n",
       "      <th>Año</th>\n",
       "      <th>Trimestre</th>\n",
       "      <th>Minutos pospago salientes (miles)</th>\n",
       "      <th>Minutos prepago salientes (miles)</th>\n",
       "      <th>Total de minutos salientes (miles)</th>\n",
       "      <th>Periodo</th>\n",
       "    </tr>\n",
       "  </thead>\n",
       "  <tbody>\n",
       "    <tr>\n",
       "      <th>0</th>\n",
       "      <td>2013</td>\n",
       "      <td>1</td>\n",
       "      <td>8785943</td>\n",
       "      <td>6582117</td>\n",
       "      <td>15368060</td>\n",
       "      <td>2013-1</td>\n",
       "    </tr>\n",
       "    <tr>\n",
       "      <th>1</th>\n",
       "      <td>2013</td>\n",
       "      <td>2</td>\n",
       "      <td>9512689</td>\n",
       "      <td>7108640</td>\n",
       "      <td>16621329</td>\n",
       "      <td>2013-4</td>\n",
       "    </tr>\n",
       "    <tr>\n",
       "      <th>2</th>\n",
       "      <td>2013</td>\n",
       "      <td>3</td>\n",
       "      <td>10315484</td>\n",
       "      <td>7335154</td>\n",
       "      <td>17650638</td>\n",
       "      <td>2013-7</td>\n",
       "    </tr>\n",
       "    <tr>\n",
       "      <th>3</th>\n",
       "      <td>2013</td>\n",
       "      <td>4</td>\n",
       "      <td>9809515</td>\n",
       "      <td>6250549</td>\n",
       "      <td>16060064</td>\n",
       "      <td>2013-10</td>\n",
       "    </tr>\n",
       "    <tr>\n",
       "      <th>4</th>\n",
       "      <td>2014</td>\n",
       "      <td>1</td>\n",
       "      <td>10128751</td>\n",
       "      <td>5799223</td>\n",
       "      <td>15927974</td>\n",
       "      <td>2014-1</td>\n",
       "    </tr>\n",
       "    <tr>\n",
       "      <th>5</th>\n",
       "      <td>2014</td>\n",
       "      <td>2</td>\n",
       "      <td>10821463</td>\n",
       "      <td>6438071</td>\n",
       "      <td>17259534</td>\n",
       "      <td>2014-4</td>\n",
       "    </tr>\n",
       "    <tr>\n",
       "      <th>6</th>\n",
       "      <td>2014</td>\n",
       "      <td>3</td>\n",
       "      <td>11524344</td>\n",
       "      <td>7179152</td>\n",
       "      <td>18703495</td>\n",
       "      <td>2014-7</td>\n",
       "    </tr>\n",
       "    <tr>\n",
       "      <th>7</th>\n",
       "      <td>2014</td>\n",
       "      <td>4</td>\n",
       "      <td>11997330</td>\n",
       "      <td>7147630</td>\n",
       "      <td>19144961</td>\n",
       "      <td>2014-10</td>\n",
       "    </tr>\n",
       "    <tr>\n",
       "      <th>8</th>\n",
       "      <td>2015</td>\n",
       "      <td>1</td>\n",
       "      <td>10273637</td>\n",
       "      <td>6480172</td>\n",
       "      <td>16753809</td>\n",
       "      <td>2015-1</td>\n",
       "    </tr>\n",
       "    <tr>\n",
       "      <th>9</th>\n",
       "      <td>2015</td>\n",
       "      <td>2</td>\n",
       "      <td>11226576</td>\n",
       "      <td>6579819</td>\n",
       "      <td>17806395</td>\n",
       "      <td>2015-4</td>\n",
       "    </tr>\n",
       "  </tbody>\n",
       "</table>\n",
       "</div>"
      ],
      "text/plain": [
       "    Año  Trimestre  Minutos pospago salientes (miles)  \\\n",
       "0  2013          1                            8785943   \n",
       "1  2013          2                            9512689   \n",
       "2  2013          3                           10315484   \n",
       "3  2013          4                            9809515   \n",
       "4  2014          1                           10128751   \n",
       "5  2014          2                           10821463   \n",
       "6  2014          3                           11524344   \n",
       "7  2014          4                           11997330   \n",
       "8  2015          1                           10273637   \n",
       "9  2015          2                           11226576   \n",
       "\n",
       "   Minutos prepago salientes (miles)  Total de minutos salientes (miles)  \\\n",
       "0                            6582117                            15368060   \n",
       "1                            7108640                            16621329   \n",
       "2                            7335154                            17650638   \n",
       "3                            6250549                            16060064   \n",
       "4                            5799223                            15927974   \n",
       "5                            6438071                            17259534   \n",
       "6                            7179152                            18703495   \n",
       "7                            7147630                            19144961   \n",
       "8                            6480172                            16753809   \n",
       "9                            6579819                            17806395   \n",
       "\n",
       "   Periodo  \n",
       "0   2013-1  \n",
       "1   2013-4  \n",
       "2   2013-7  \n",
       "3  2013-10  \n",
       "4   2014-1  \n",
       "5   2014-4  \n",
       "6   2014-7  \n",
       "7  2014-10  \n",
       "8   2015-1  \n",
       "9   2015-4  "
      ]
     },
     "execution_count": 5,
     "metadata": {},
     "output_type": "execute_result"
    }
   ],
   "source": [
    "data[\"Periodo\"] = data[\"Año\"].map(str) + \"-\" + (data[\"Trimestre\"]*3-2).map(str)\n",
    "data.head(10)"
   ]
  },
  {
   "cell_type": "code",
   "execution_count": 6,
   "metadata": {},
   "outputs": [
    {
     "data": {
      "text/html": [
       "<div>\n",
       "<style scoped>\n",
       "    .dataframe tbody tr th:only-of-type {\n",
       "        vertical-align: middle;\n",
       "    }\n",
       "\n",
       "    .dataframe tbody tr th {\n",
       "        vertical-align: top;\n",
       "    }\n",
       "\n",
       "    .dataframe thead th {\n",
       "        text-align: right;\n",
       "    }\n",
       "</style>\n",
       "<table border=\"1\" class=\"dataframe\">\n",
       "  <thead>\n",
       "    <tr style=\"text-align: right;\">\n",
       "      <th></th>\n",
       "      <th>Año</th>\n",
       "      <th>Trimestre</th>\n",
       "      <th>Minutos pospago salientes (miles)</th>\n",
       "      <th>Minutos prepago salientes (miles)</th>\n",
       "      <th>Total de minutos salientes (miles)</th>\n",
       "      <th>Periodo</th>\n",
       "    </tr>\n",
       "  </thead>\n",
       "  <tbody>\n",
       "    <tr>\n",
       "      <th>0</th>\n",
       "      <td>2013</td>\n",
       "      <td>1</td>\n",
       "      <td>8785943</td>\n",
       "      <td>6582117</td>\n",
       "      <td>15368060</td>\n",
       "      <td>2013-01-01</td>\n",
       "    </tr>\n",
       "    <tr>\n",
       "      <th>1</th>\n",
       "      <td>2013</td>\n",
       "      <td>2</td>\n",
       "      <td>9512689</td>\n",
       "      <td>7108640</td>\n",
       "      <td>16621329</td>\n",
       "      <td>2013-04-01</td>\n",
       "    </tr>\n",
       "    <tr>\n",
       "      <th>2</th>\n",
       "      <td>2013</td>\n",
       "      <td>3</td>\n",
       "      <td>10315484</td>\n",
       "      <td>7335154</td>\n",
       "      <td>17650638</td>\n",
       "      <td>2013-07-01</td>\n",
       "    </tr>\n",
       "    <tr>\n",
       "      <th>3</th>\n",
       "      <td>2013</td>\n",
       "      <td>4</td>\n",
       "      <td>9809515</td>\n",
       "      <td>6250549</td>\n",
       "      <td>16060064</td>\n",
       "      <td>2013-10-01</td>\n",
       "    </tr>\n",
       "    <tr>\n",
       "      <th>4</th>\n",
       "      <td>2014</td>\n",
       "      <td>1</td>\n",
       "      <td>10128751</td>\n",
       "      <td>5799223</td>\n",
       "      <td>15927974</td>\n",
       "      <td>2014-01-01</td>\n",
       "    </tr>\n",
       "    <tr>\n",
       "      <th>5</th>\n",
       "      <td>2014</td>\n",
       "      <td>2</td>\n",
       "      <td>10821463</td>\n",
       "      <td>6438071</td>\n",
       "      <td>17259534</td>\n",
       "      <td>2014-04-01</td>\n",
       "    </tr>\n",
       "    <tr>\n",
       "      <th>6</th>\n",
       "      <td>2014</td>\n",
       "      <td>3</td>\n",
       "      <td>11524344</td>\n",
       "      <td>7179152</td>\n",
       "      <td>18703495</td>\n",
       "      <td>2014-07-01</td>\n",
       "    </tr>\n",
       "    <tr>\n",
       "      <th>7</th>\n",
       "      <td>2014</td>\n",
       "      <td>4</td>\n",
       "      <td>11997330</td>\n",
       "      <td>7147630</td>\n",
       "      <td>19144961</td>\n",
       "      <td>2014-10-01</td>\n",
       "    </tr>\n",
       "    <tr>\n",
       "      <th>8</th>\n",
       "      <td>2015</td>\n",
       "      <td>1</td>\n",
       "      <td>10273637</td>\n",
       "      <td>6480172</td>\n",
       "      <td>16753809</td>\n",
       "      <td>2015-01-01</td>\n",
       "    </tr>\n",
       "    <tr>\n",
       "      <th>9</th>\n",
       "      <td>2015</td>\n",
       "      <td>2</td>\n",
       "      <td>11226576</td>\n",
       "      <td>6579819</td>\n",
       "      <td>17806395</td>\n",
       "      <td>2015-04-01</td>\n",
       "    </tr>\n",
       "  </tbody>\n",
       "</table>\n",
       "</div>"
      ],
      "text/plain": [
       "    Año  Trimestre  Minutos pospago salientes (miles)  \\\n",
       "0  2013          1                            8785943   \n",
       "1  2013          2                            9512689   \n",
       "2  2013          3                           10315484   \n",
       "3  2013          4                            9809515   \n",
       "4  2014          1                           10128751   \n",
       "5  2014          2                           10821463   \n",
       "6  2014          3                           11524344   \n",
       "7  2014          4                           11997330   \n",
       "8  2015          1                           10273637   \n",
       "9  2015          2                           11226576   \n",
       "\n",
       "   Minutos prepago salientes (miles)  Total de minutos salientes (miles)  \\\n",
       "0                            6582117                            15368060   \n",
       "1                            7108640                            16621329   \n",
       "2                            7335154                            17650638   \n",
       "3                            6250549                            16060064   \n",
       "4                            5799223                            15927974   \n",
       "5                            6438071                            17259534   \n",
       "6                            7179152                            18703495   \n",
       "7                            7147630                            19144961   \n",
       "8                            6480172                            16753809   \n",
       "9                            6579819                            17806395   \n",
       "\n",
       "     Periodo  \n",
       "0 2013-01-01  \n",
       "1 2013-04-01  \n",
       "2 2013-07-01  \n",
       "3 2013-10-01  \n",
       "4 2014-01-01  \n",
       "5 2014-04-01  \n",
       "6 2014-07-01  \n",
       "7 2014-10-01  \n",
       "8 2015-01-01  \n",
       "9 2015-04-01  "
      ]
     },
     "execution_count": 6,
     "metadata": {},
     "output_type": "execute_result"
    }
   ],
   "source": [
    "data.Periodo = pd.to_datetime(data.Periodo)\n",
    "data.head(10)"
   ]
  },
  {
   "cell_type": "code",
   "execution_count": 7,
   "metadata": {},
   "outputs": [
    {
     "data": {
      "text/html": [
       "<div>\n",
       "<style scoped>\n",
       "    .dataframe tbody tr th:only-of-type {\n",
       "        vertical-align: middle;\n",
       "    }\n",
       "\n",
       "    .dataframe tbody tr th {\n",
       "        vertical-align: top;\n",
       "    }\n",
       "\n",
       "    .dataframe thead th {\n",
       "        text-align: right;\n",
       "    }\n",
       "</style>\n",
       "<table border=\"1\" class=\"dataframe\">\n",
       "  <thead>\n",
       "    <tr style=\"text-align: right;\">\n",
       "      <th></th>\n",
       "      <th>Año</th>\n",
       "      <th>Trimestre</th>\n",
       "      <th>Minutos pospago salientes (miles)</th>\n",
       "      <th>Minutos prepago salientes (miles)</th>\n",
       "      <th>Total de minutos salientes (miles)</th>\n",
       "      <th>Periodo</th>\n",
       "    </tr>\n",
       "    <tr>\n",
       "      <th>Periodo</th>\n",
       "      <th></th>\n",
       "      <th></th>\n",
       "      <th></th>\n",
       "      <th></th>\n",
       "      <th></th>\n",
       "      <th></th>\n",
       "    </tr>\n",
       "  </thead>\n",
       "  <tbody>\n",
       "    <tr>\n",
       "      <th>2013-01-01</th>\n",
       "      <td>2013</td>\n",
       "      <td>1</td>\n",
       "      <td>8785943</td>\n",
       "      <td>6582117</td>\n",
       "      <td>15368060</td>\n",
       "      <td>2013-01-01</td>\n",
       "    </tr>\n",
       "    <tr>\n",
       "      <th>2013-04-01</th>\n",
       "      <td>2013</td>\n",
       "      <td>2</td>\n",
       "      <td>9512689</td>\n",
       "      <td>7108640</td>\n",
       "      <td>16621329</td>\n",
       "      <td>2013-04-01</td>\n",
       "    </tr>\n",
       "    <tr>\n",
       "      <th>2013-07-01</th>\n",
       "      <td>2013</td>\n",
       "      <td>3</td>\n",
       "      <td>10315484</td>\n",
       "      <td>7335154</td>\n",
       "      <td>17650638</td>\n",
       "      <td>2013-07-01</td>\n",
       "    </tr>\n",
       "    <tr>\n",
       "      <th>2013-10-01</th>\n",
       "      <td>2013</td>\n",
       "      <td>4</td>\n",
       "      <td>9809515</td>\n",
       "      <td>6250549</td>\n",
       "      <td>16060064</td>\n",
       "      <td>2013-10-01</td>\n",
       "    </tr>\n",
       "    <tr>\n",
       "      <th>2014-01-01</th>\n",
       "      <td>2014</td>\n",
       "      <td>1</td>\n",
       "      <td>10128751</td>\n",
       "      <td>5799223</td>\n",
       "      <td>15927974</td>\n",
       "      <td>2014-01-01</td>\n",
       "    </tr>\n",
       "    <tr>\n",
       "      <th>2014-04-01</th>\n",
       "      <td>2014</td>\n",
       "      <td>2</td>\n",
       "      <td>10821463</td>\n",
       "      <td>6438071</td>\n",
       "      <td>17259534</td>\n",
       "      <td>2014-04-01</td>\n",
       "    </tr>\n",
       "    <tr>\n",
       "      <th>2014-07-01</th>\n",
       "      <td>2014</td>\n",
       "      <td>3</td>\n",
       "      <td>11524344</td>\n",
       "      <td>7179152</td>\n",
       "      <td>18703495</td>\n",
       "      <td>2014-07-01</td>\n",
       "    </tr>\n",
       "    <tr>\n",
       "      <th>2014-10-01</th>\n",
       "      <td>2014</td>\n",
       "      <td>4</td>\n",
       "      <td>11997330</td>\n",
       "      <td>7147630</td>\n",
       "      <td>19144961</td>\n",
       "      <td>2014-10-01</td>\n",
       "    </tr>\n",
       "    <tr>\n",
       "      <th>2015-01-01</th>\n",
       "      <td>2015</td>\n",
       "      <td>1</td>\n",
       "      <td>10273637</td>\n",
       "      <td>6480172</td>\n",
       "      <td>16753809</td>\n",
       "      <td>2015-01-01</td>\n",
       "    </tr>\n",
       "    <tr>\n",
       "      <th>2015-04-01</th>\n",
       "      <td>2015</td>\n",
       "      <td>2</td>\n",
       "      <td>11226576</td>\n",
       "      <td>6579819</td>\n",
       "      <td>17806395</td>\n",
       "      <td>2015-04-01</td>\n",
       "    </tr>\n",
       "  </tbody>\n",
       "</table>\n",
       "</div>"
      ],
      "text/plain": [
       "             Año  Trimestre  Minutos pospago salientes (miles)  \\\n",
       "Periodo                                                          \n",
       "2013-01-01  2013          1                            8785943   \n",
       "2013-04-01  2013          2                            9512689   \n",
       "2013-07-01  2013          3                           10315484   \n",
       "2013-10-01  2013          4                            9809515   \n",
       "2014-01-01  2014          1                           10128751   \n",
       "2014-04-01  2014          2                           10821463   \n",
       "2014-07-01  2014          3                           11524344   \n",
       "2014-10-01  2014          4                           11997330   \n",
       "2015-01-01  2015          1                           10273637   \n",
       "2015-04-01  2015          2                           11226576   \n",
       "\n",
       "            Minutos prepago salientes (miles)  \\\n",
       "Periodo                                         \n",
       "2013-01-01                            6582117   \n",
       "2013-04-01                            7108640   \n",
       "2013-07-01                            7335154   \n",
       "2013-10-01                            6250549   \n",
       "2014-01-01                            5799223   \n",
       "2014-04-01                            6438071   \n",
       "2014-07-01                            7179152   \n",
       "2014-10-01                            7147630   \n",
       "2015-01-01                            6480172   \n",
       "2015-04-01                            6579819   \n",
       "\n",
       "            Total de minutos salientes (miles)    Periodo  \n",
       "Periodo                                                    \n",
       "2013-01-01                            15368060 2013-01-01  \n",
       "2013-04-01                            16621329 2013-04-01  \n",
       "2013-07-01                            17650638 2013-07-01  \n",
       "2013-10-01                            16060064 2013-10-01  \n",
       "2014-01-01                            15927974 2014-01-01  \n",
       "2014-04-01                            17259534 2014-04-01  \n",
       "2014-07-01                            18703495 2014-07-01  \n",
       "2014-10-01                            19144961 2014-10-01  \n",
       "2015-01-01                            16753809 2015-01-01  \n",
       "2015-04-01                            17806395 2015-04-01  "
      ]
     },
     "execution_count": 7,
     "metadata": {},
     "output_type": "execute_result"
    }
   ],
   "source": [
    "data.index = data.Periodo\n",
    "data.head(10)"
   ]
  },
  {
   "cell_type": "code",
   "execution_count": 8,
   "metadata": {},
   "outputs": [
    {
     "data": {
      "text/html": [
       "<div>\n",
       "<style scoped>\n",
       "    .dataframe tbody tr th:only-of-type {\n",
       "        vertical-align: middle;\n",
       "    }\n",
       "\n",
       "    .dataframe tbody tr th {\n",
       "        vertical-align: top;\n",
       "    }\n",
       "\n",
       "    .dataframe thead th {\n",
       "        text-align: right;\n",
       "    }\n",
       "</style>\n",
       "<table border=\"1\" class=\"dataframe\">\n",
       "  <thead>\n",
       "    <tr style=\"text-align: right;\">\n",
       "      <th></th>\n",
       "      <th>Año</th>\n",
       "      <th>Trimestre</th>\n",
       "      <th>Minutos pospago salientes (miles)</th>\n",
       "      <th>Minutos prepago salientes (miles)</th>\n",
       "      <th>Total de minutos salientes (miles)</th>\n",
       "      <th>Periodo</th>\n",
       "    </tr>\n",
       "    <tr>\n",
       "      <th>Periodo</th>\n",
       "      <th></th>\n",
       "      <th></th>\n",
       "      <th></th>\n",
       "      <th></th>\n",
       "      <th></th>\n",
       "      <th></th>\n",
       "    </tr>\n",
       "  </thead>\n",
       "  <tbody>\n",
       "    <tr>\n",
       "      <th>2013Q1</th>\n",
       "      <td>2013</td>\n",
       "      <td>1</td>\n",
       "      <td>8785943</td>\n",
       "      <td>6582117</td>\n",
       "      <td>15368060</td>\n",
       "      <td>2013-01-01</td>\n",
       "    </tr>\n",
       "    <tr>\n",
       "      <th>2013Q2</th>\n",
       "      <td>2013</td>\n",
       "      <td>2</td>\n",
       "      <td>9512689</td>\n",
       "      <td>7108640</td>\n",
       "      <td>16621329</td>\n",
       "      <td>2013-04-01</td>\n",
       "    </tr>\n",
       "    <tr>\n",
       "      <th>2013Q3</th>\n",
       "      <td>2013</td>\n",
       "      <td>3</td>\n",
       "      <td>10315484</td>\n",
       "      <td>7335154</td>\n",
       "      <td>17650638</td>\n",
       "      <td>2013-07-01</td>\n",
       "    </tr>\n",
       "    <tr>\n",
       "      <th>2013Q4</th>\n",
       "      <td>2013</td>\n",
       "      <td>4</td>\n",
       "      <td>9809515</td>\n",
       "      <td>6250549</td>\n",
       "      <td>16060064</td>\n",
       "      <td>2013-10-01</td>\n",
       "    </tr>\n",
       "    <tr>\n",
       "      <th>2014Q1</th>\n",
       "      <td>2014</td>\n",
       "      <td>1</td>\n",
       "      <td>10128751</td>\n",
       "      <td>5799223</td>\n",
       "      <td>15927974</td>\n",
       "      <td>2014-01-01</td>\n",
       "    </tr>\n",
       "    <tr>\n",
       "      <th>2014Q2</th>\n",
       "      <td>2014</td>\n",
       "      <td>2</td>\n",
       "      <td>10821463</td>\n",
       "      <td>6438071</td>\n",
       "      <td>17259534</td>\n",
       "      <td>2014-04-01</td>\n",
       "    </tr>\n",
       "    <tr>\n",
       "      <th>2014Q3</th>\n",
       "      <td>2014</td>\n",
       "      <td>3</td>\n",
       "      <td>11524344</td>\n",
       "      <td>7179152</td>\n",
       "      <td>18703495</td>\n",
       "      <td>2014-07-01</td>\n",
       "    </tr>\n",
       "    <tr>\n",
       "      <th>2014Q4</th>\n",
       "      <td>2014</td>\n",
       "      <td>4</td>\n",
       "      <td>11997330</td>\n",
       "      <td>7147630</td>\n",
       "      <td>19144961</td>\n",
       "      <td>2014-10-01</td>\n",
       "    </tr>\n",
       "    <tr>\n",
       "      <th>2015Q1</th>\n",
       "      <td>2015</td>\n",
       "      <td>1</td>\n",
       "      <td>10273637</td>\n",
       "      <td>6480172</td>\n",
       "      <td>16753809</td>\n",
       "      <td>2015-01-01</td>\n",
       "    </tr>\n",
       "    <tr>\n",
       "      <th>2015Q2</th>\n",
       "      <td>2015</td>\n",
       "      <td>2</td>\n",
       "      <td>11226576</td>\n",
       "      <td>6579819</td>\n",
       "      <td>17806395</td>\n",
       "      <td>2015-04-01</td>\n",
       "    </tr>\n",
       "  </tbody>\n",
       "</table>\n",
       "</div>"
      ],
      "text/plain": [
       "          Año  Trimestre  Minutos pospago salientes (miles)  \\\n",
       "Periodo                                                       \n",
       "2013Q1   2013          1                            8785943   \n",
       "2013Q2   2013          2                            9512689   \n",
       "2013Q3   2013          3                           10315484   \n",
       "2013Q4   2013          4                            9809515   \n",
       "2014Q1   2014          1                           10128751   \n",
       "2014Q2   2014          2                           10821463   \n",
       "2014Q3   2014          3                           11524344   \n",
       "2014Q4   2014          4                           11997330   \n",
       "2015Q1   2015          1                           10273637   \n",
       "2015Q2   2015          2                           11226576   \n",
       "\n",
       "         Minutos prepago salientes (miles)  \\\n",
       "Periodo                                      \n",
       "2013Q1                             6582117   \n",
       "2013Q2                             7108640   \n",
       "2013Q3                             7335154   \n",
       "2013Q4                             6250549   \n",
       "2014Q1                             5799223   \n",
       "2014Q2                             6438071   \n",
       "2014Q3                             7179152   \n",
       "2014Q4                             7147630   \n",
       "2015Q1                             6480172   \n",
       "2015Q2                             6579819   \n",
       "\n",
       "         Total de minutos salientes (miles)    Periodo  \n",
       "Periodo                                                 \n",
       "2013Q1                             15368060 2013-01-01  \n",
       "2013Q2                             16621329 2013-04-01  \n",
       "2013Q3                             17650638 2013-07-01  \n",
       "2013Q4                             16060064 2013-10-01  \n",
       "2014Q1                             15927974 2014-01-01  \n",
       "2014Q2                             17259534 2014-04-01  \n",
       "2014Q3                             18703495 2014-07-01  \n",
       "2014Q4                             19144961 2014-10-01  \n",
       "2015Q1                             16753809 2015-01-01  \n",
       "2015Q2                             17806395 2015-04-01  "
      ]
     },
     "execution_count": 8,
     "metadata": {},
     "output_type": "execute_result"
    }
   ],
   "source": [
    "data.index = data.index.to_period(freq='Q') # converting the index to quarterly period instead of dates\n",
    "data.head(10)"
   ]
  },
  {
   "cell_type": "markdown",
   "metadata": {},
   "source": [
    "For univariate time series modelling, it is better to work with a pandas series rather than dataframe. "
   ]
  },
  {
   "cell_type": "code",
   "execution_count": 9,
   "metadata": {},
   "outputs": [
    {
     "data": {
      "text/plain": [
       "Periodo\n",
       "2013Q1    15368060\n",
       "2013Q2    16621329\n",
       "2013Q3    17650638\n",
       "2013Q4    16060064\n",
       "2014Q1    15927974\n",
       "2014Q2    17259534\n",
       "2014Q3    18703495\n",
       "2014Q4    19144961\n",
       "2015Q1    16753809\n",
       "2015Q2    17806395\n",
       "Freq: Q-DEC, Name: Total de minutos salientes (miles), dtype: int64"
      ]
     },
     "execution_count": 9,
     "metadata": {},
     "output_type": "execute_result"
    }
   ],
   "source": [
    "y=data['Total de minutos salientes (miles)']\n",
    "y.head(10)"
   ]
  },
  {
   "cell_type": "markdown",
   "metadata": {},
   "source": [
    "## Exploratory data analysis\n",
    "\n",
    "The first step in our analysis is a time series plot. We can see that both the level and volatility of inflation is much lower in recent times than it was in the 80s. There is a noticeable outlier in the third quarter of 2000 due to introduction of the GST in Australia. "
   ]
  },
  {
   "cell_type": "code",
   "execution_count": 27,
   "metadata": {},
   "outputs": [
    {
     "data": {
      "image/png": "[encoded data removed]",
      "text/plain": [
       "<Figure size 1080x720 with 1 Axes>"
      ]
     },
     "metadata": {
      "needs_background": "light"
     },
     "output_type": "display_data"
    }
   ],
   "source": [
    "fig, ax= plt.subplots();#figsize=(9,6))\n",
    "y.plot(color=red)\n",
    "ax.set_xlabel('Año')\n",
    "ax.set_ylabel('Total de minutos salientes (miles)')\n",
    "ax.set_title('Total de minutos salientes por trimestre - Telefonia Movil')\n",
    "sns.despine()\n",
    "plt.show()"
   ]
  },
  {
   "cell_type": "code",
   "execution_count": 11,
   "metadata": {},
   "outputs": [
    {
     "data": {
      "text/plain": [
       "count          25.00\n",
       "mean     18922204.72\n",
       "std       1982378.31\n",
       "min      15368060.00\n",
       "25%      17650638.00\n",
       "50%      19001229.00\n",
       "75%      20364355.00\n",
       "max      22899656.00\n",
       "Name: Total de minutos salientes (miles), dtype: float64"
      ]
     },
     "execution_count": 11,
     "metadata": {},
     "output_type": "execute_result"
    }
   ],
   "source": [
    "y.describe().round(2)"
   ]
  },
  {
   "cell_type": "markdown",
   "metadata": {},
   "source": [
    "## Random walk\n",
    "\n",
    "In this section we use the random walk method to illustrate the process that we will follow to generate forecasts in the tutorials. \n",
    "\n",
    "1. Specify the forecast horizon.\n",
    "\n",
    "2. Create a range of dates or periods starting from the time index following the last observation in the data. \n",
    "\n",
    "3. Generate the forecasts and store them in a series indexed by step 2. \n",
    "\n",
    "Below, we generate point forecasts for one to four quarters after the end of the series. "
   ]
  },
  {
   "cell_type": "code",
   "execution_count": 14,
   "metadata": {},
   "outputs": [
    {
     "data": {
      "text/plain": [
       "2019Q2    20364355\n",
       "2019Q3    20364355\n",
       "2019Q4    20364355\n",
       "2020Q1    20364355\n",
       "Freq: Q-DEC, dtype: int64"
      ]
     },
     "execution_count": 14,
     "metadata": {},
     "output_type": "execute_result"
    }
   ],
   "source": [
    "h = 4\n",
    "test=pd.period_range(start=y.index[-1]+1, periods=4, freq='Q')\n",
    "pred=pd.Series(np.repeat(y.iloc[-1], h), index=test) # the forecast repeats the last observed values h times\n",
    "pred"
   ]
  },
  {
   "cell_type": "markdown",
   "metadata": {},
   "source": [
    "To compute interval forecasts, we first estimate the standard deviation of the errors."
   ]
  },
  {
   "cell_type": "code",
   "execution_count": 15,
   "metadata": {},
   "outputs": [
    {
     "data": {
      "text/plain": [
       "1409600.295"
      ]
     },
     "execution_count": 15,
     "metadata": {},
     "output_type": "execute_result"
    }
   ],
   "source": [
    "resid=y-y.shift(1) # the shift lags the series by one period\n",
    "sigma = resid.std()\n",
    "round(sigma,3)"
   ]
  },
  {
   "cell_type": "code",
   "execution_count": 16,
   "metadata": {},
   "outputs": [
    {
     "data": {
      "image/png": "[encoded data removed]",
      "text/plain": [
       "<Figure size 1080x720 with 1 Axes>"
      ]
     },
     "metadata": {
      "needs_background": "light"
     },
     "output_type": "display_data"
    }
   ],
   "source": [
    "resid.plot.hist(bins=30);"
   ]
  },
  {
   "cell_type": "markdown",
   "metadata": {},
   "source": [
    "Using the formulas from the lecture, the interval forecasts are as below. "
   ]
  },
  {
   "cell_type": "code",
   "execution_count": 17,
   "metadata": {},
   "outputs": [
    {
     "data": {
      "text/plain": [
       "array([1, 2, 3, 4])"
      ]
     },
     "execution_count": 17,
     "metadata": {},
     "output_type": "execute_result"
    }
   ],
   "source": [
    "np.arange(1,h+1)"
   ]
  },
  {
   "cell_type": "code",
   "execution_count": 18,
   "metadata": {},
   "outputs": [
    {
     "data": {
      "text/html": [
       "<div>\n",
       "<style scoped>\n",
       "    .dataframe tbody tr th:only-of-type {\n",
       "        vertical-align: middle;\n",
       "    }\n",
       "\n",
       "    .dataframe tbody tr th {\n",
       "        vertical-align: top;\n",
       "    }\n",
       "\n",
       "    .dataframe thead th {\n",
       "        text-align: right;\n",
       "    }\n",
       "</style>\n",
       "<table border=\"1\" class=\"dataframe\">\n",
       "  <thead>\n",
       "    <tr style=\"text-align: right;\">\n",
       "      <th></th>\n",
       "      <th>0</th>\n",
       "      <th>1</th>\n",
       "    </tr>\n",
       "  </thead>\n",
       "  <tbody>\n",
       "    <tr>\n",
       "      <th>2019Q2</th>\n",
       "      <td>1.760159e+07</td>\n",
       "      <td>2.312712e+07</td>\n",
       "    </tr>\n",
       "    <tr>\n",
       "      <th>2019Q3</th>\n",
       "      <td>1.645721e+07</td>\n",
       "      <td>2.427150e+07</td>\n",
       "    </tr>\n",
       "    <tr>\n",
       "      <th>2019Q4</th>\n",
       "      <td>1.557910e+07</td>\n",
       "      <td>2.514961e+07</td>\n",
       "    </tr>\n",
       "    <tr>\n",
       "      <th>2020Q1</th>\n",
       "      <td>1.483882e+07</td>\n",
       "      <td>2.588989e+07</td>\n",
       "    </tr>\n",
       "  </tbody>\n",
       "</table>\n",
       "</div>"
      ],
      "text/plain": [
       "                   0             1\n",
       "2019Q2  1.760159e+07  2.312712e+07\n",
       "2019Q3  1.645721e+07  2.427150e+07\n",
       "2019Q4  1.557910e+07  2.514961e+07\n",
       "2020Q1  1.483882e+07  2.588989e+07"
      ]
     },
     "execution_count": 18,
     "metadata": {},
     "output_type": "execute_result"
    }
   ],
   "source": [
    "intv = pd.concat([pred-stats.norm.ppf(0.975)*sigma*np.sqrt(np.arange(1,h+1)),\n",
    "                   pred+stats.norm.ppf(0.975)*sigma*np.sqrt(np.arange(1,h+1))], axis=1)\n",
    "intv.round(3)"
   ]
  },
  {
   "cell_type": "code",
   "execution_count": 19,
   "metadata": {},
   "outputs": [
    {
     "data": {
      "image/png": "[encoded data removed]",
      "text/plain": [
       "<Figure size 576x360 with 1 Axes>"
      ]
     },
     "metadata": {},
     "output_type": "display_data"
    }
   ],
   "source": [
    "from plotting import fanchart\n",
    "\n",
    "point_pred = (intv[0]+intv[1])/2\n",
    "\n",
    "fig, ax = fanchart(y['1980':],point_pred,intv,intv,intv)\n",
    "\n",
    "plt.show()"
   ]
  },
  {
   "cell_type": "markdown",
   "metadata": {},
   "source": [
    "## Simple exponential smoothing\n",
    "\n",
    "The exponential smoothing functions are available since version 0.9 of statsmodels in the **tsa.\n",
    "holtwinters** module. Take a look in the official [docs](https://www.statsmodels.org/stable/tsa.html#exponential-smoothing). Also, they are improving them, so follow the news for the next release."
   ]
  },
  {
   "cell_type": "code",
   "execution_count": 20,
   "metadata": {},
   "outputs": [
    {
     "data": {
      "text/html": [
       "<table class=\"simpletable\">\n",
       "<caption>SimpleExpSmoothing Model Results</caption>\n",
       "<tr>\n",
       "  <th>Dep. Variable:</th>           <td>endog</td>       <th>  No. Observations:  </th>         <td>25</td>        \n",
       "</tr>\n",
       "<tr>\n",
       "  <th>Model:</th>            <td>SimpleExpSmoothing</td> <th>  SSE                </th> <td>43907864549324.172</td>\n",
       "</tr>\n",
       "<tr>\n",
       "  <th>Optimized:</th>               <td>True</td>        <th>  AIC                </th>       <td>708.856</td>     \n",
       "</tr>\n",
       "<tr>\n",
       "  <th>Trend:</th>                   <td>None</td>        <th>  BIC                </th>       <td>711.294</td>     \n",
       "</tr>\n",
       "<tr>\n",
       "  <th>Seasonal:</th>                <td>None</td>        <th>  AICC               </th>       <td>710.856</td>     \n",
       "</tr>\n",
       "<tr>\n",
       "  <th>Seasonal Periods:</th>        <td>None</td>        <th>  Date:              </th>  <td>Sun, 15 Sep 2019</td> \n",
       "</tr>\n",
       "<tr>\n",
       "  <th>Box-Cox:</th>                 <td>False</td>       <th>  Time:              </th>      <td>20:27:37</td>     \n",
       "</tr>\n",
       "<tr>\n",
       "  <th>Box-Cox Coeff.:</th>          <td>None</td>        <th>                     </th>          <td> </td>        \n",
       "</tr>\n",
       "</table>\n",
       "<table class=\"simpletable\">\n",
       "<tr>\n",
       "         <td></td>                 <th>coeff</th>                <th>code</th>               <th>optimized</th>     \n",
       "</tr>\n",
       "<tr>\n",
       "  <th>smoothing_level</th> <td>           0.6030715</td> <td>               alpha</td> <td>                True</td>\n",
       "</tr>\n",
       "<tr>\n",
       "  <th>initial_level</th>   <td>          1.5372e+07</td> <td>                 l.0</td> <td>                True</td>\n",
       "</tr>\n",
       "</table>"
      ],
      "text/plain": [
       "<class 'statsmodels.iolib.summary.Summary'>\n",
       "\"\"\"\n",
       "                       SimpleExpSmoothing Model Results                       \n",
       "==============================================================================\n",
       "Dep. Variable:                  endog   No. Observations:                   25\n",
       "Model:             SimpleExpSmoothing   SSE                 43907864549324.172\n",
       "Optimized:                       True   AIC                            708.856\n",
       "Trend:                           None   BIC                            711.294\n",
       "Seasonal:                        None   AICC                           710.856\n",
       "Seasonal Periods:                None   Date:                 Sun, 15 Sep 2019\n",
       "Box-Cox:                        False   Time:                         20:27:37\n",
       "Box-Cox Coeff.:                  None                                         \n",
       "==============================================================================\n",
       "                       coeff                 code              optimized      \n",
       "------------------------------------------------------------------------------\n",
       "smoothing_level            0.6030715                alpha                 True\n",
       "initial_level             1.5372e+07                  l.0                 True\n",
       "------------------------------------------------------------------------------\n",
       "\"\"\""
      ]
     },
     "execution_count": 20,
     "metadata": {},
     "output_type": "execute_result"
    }
   ],
   "source": [
    "model_ses = sm.tsa.SimpleExpSmoothing(y).fit()\n",
    "fitted_ses = model_ses.fittedvalues\n",
    "model_ses.summary()"
   ]
  },
  {
   "cell_type": "markdown",
   "metadata": {},
   "source": [
    "Also AIC and BIC looks off so we are continue our analysis with MSE."
   ]
  },
  {
   "cell_type": "code",
   "execution_count": 43,
   "metadata": {},
   "outputs": [
    {
     "name": "stdout",
     "output_type": "stream",
     "text": [
      " Predicción de la muestra:\n",
      " MSE               1756314.5819729664\n"
     ]
    }
   ],
   "source": [
    "mse_ses = sm.tools.eval_measures.mse(y,fitted_ses)\n",
    "print(' Predicción de la muestra:')\n",
    "print(' MSE               {}'.format(mse_ses*(1e-6)))"
   ]
  },
  {
   "cell_type": "markdown",
   "metadata": {},
   "source": [
    "Calculo de AIC y BIC"
   ]
  },
  {
   "cell_type": "code",
   "execution_count": 22,
   "metadata": {},
   "outputs": [
    {
     "name": "stdout",
     "output_type": "stream",
     "text": [
      " Log-likelihood    -387.901\n",
      " AIC               781.803\n",
      " BIC               785.460\n"
     ]
    }
   ],
   "source": [
    "N = len(y)\n",
    "loglik_ses=-(N/2)*(1+np.log(2*np.pi))-(N/2)*np.log(mse_ses)\n",
    "aic_ses=-2*loglik_ses+2*3\n",
    "bic_ses=-2*loglik_ses+np.log(N)*3\n",
    "print(' Log-likelihood    %.3f' % (loglik_ses))\n",
    "print(' AIC               {0:.3f}'.format(aic_ses))\n",
    "print(' BIC               {0:.3f}'.format(bic_ses))"
   ]
  },
  {
   "cell_type": "markdown",
   "metadata": {},
   "source": [
    "Se observa como el ajuste se comporta respecto a los datos observados"
   ]
  },
  {
   "cell_type": "code",
   "execution_count": 28,
   "metadata": {},
   "outputs": [
    {
     "data": {
      "image/png": "[encoded data removed]",
      "text/plain": [
       "<Figure size 1080x720 with 1 Axes>"
      ]
     },
     "metadata": {
      "needs_background": "light"
     },
     "output_type": "display_data"
    }
   ],
   "source": [
    "fig, ax= plt.subplots();#figsize=(9,6))\n",
    "y.plot(color=red, label='Minutos Totales')\n",
    "fitted_ses.plot(color='black', label='Simple exponential smoothing fit', alpha=0.8)\n",
    "ax.set_xlabel('')\n",
    "ax.set_ylabel('Inflation')\n",
    "ax.set_title('Minutos Totales')\n",
    "ax.set_xticks([], minor=True) \n",
    "plt.legend(loc='best')\n",
    "sns.despine()\n",
    "plt.show()"
   ]
  },
  {
   "cell_type": "markdown",
   "metadata": {},
   "source": [
    "## Diagnóstico\n",
    "\n",
    "Para esto estudiaremos los residuos del ajuste"
   ]
  },
  {
   "cell_type": "code",
   "execution_count": 24,
   "metadata": {},
   "outputs": [],
   "source": [
    "resid=y-fitted_ses # model_ses.resid isn't a panda.Series, so no index, no plot"
   ]
  },
  {
   "cell_type": "code",
   "execution_count": 25,
   "metadata": {
    "scrolled": false
   },
   "outputs": [
    {
     "data": {
      "image/png": "[encoded data removed]",
      "text/plain": [
       "<Figure size 1080x720 with 1 Axes>"
      ]
     },
     "metadata": {
      "needs_background": "light"
     },
     "output_type": "display_data"
    }
   ],
   "source": [
    "fig, ax= plt.subplots();#figsize=(9,6))\n",
    "resid.plot(color=blue)\n",
    "ax.set_xlabel('')\n",
    "ax.set_xticks([], minor=True) \n",
    "ax.set_title('Residual plot')\n",
    "sns.despine()\n",
    "plt.show()"
   ]
  },
  {
   "cell_type": "markdown",
   "metadata": {},
   "source": [
    "Los residuos de la serie presentan un comportamiento estacional cada aproximadamente 10 años. Esto no debería observarse en los residuos, sino que se esperan valores aleatorios con media cero, formando así ruido blanco."
   ]
  },
  {
   "cell_type": "code",
   "execution_count": 31,
   "metadata": {},
   "outputs": [
    {
     "data": {
      "image/png": "[encoded data removed]",
      "text/plain": [
       "<Figure size 1080x720 with 1 Axes>"
      ]
     },
     "metadata": {
      "needs_background": "light"
     },
     "output_type": "display_data"
    }
   ],
   "source": [
    "def hist(series):\n",
    "    fig, ax= plt.subplots();#figsize=(9,6))\n",
    "    sns.distplot(series, ax=ax, hist_kws={'alpha': 0.8, 'edgecolor':'black', 'color': blue},  \n",
    "                 kde_kws={'color': 'black', 'alpha': 0.7})\n",
    "    sns.despine()\n",
    "    return fig, ax\n",
    "\n",
    "hist(resid)\n",
    "plt.show()"
   ]
  },
  {
   "cell_type": "markdown",
   "metadata": {},
   "source": [
    "Graficando el historama (azul) y la densidad de probabilidades empírica (negro) para los residuos comprobamos que poseen media cero aunque con gran desvío."
   ]
  },
  {
   "cell_type": "markdown",
   "metadata": {},
   "source": [
    "## Validación\n",
    "\n",
    "Se busca comparar los métodos Random Walk y Simple Exponential Emoothing. "
   ]
  },
  {
   "cell_type": "code",
   "execution_count": 38,
   "metadata": {},
   "outputs": [
    {
     "data": {
      "text/plain": [
       "0.6"
      ]
     },
     "execution_count": 38,
     "metadata": {},
     "output_type": "execute_result"
    }
   ],
   "source": [
    "(y.index.get_loc('2017Q1')-1)/len(y)"
   ]
  },
  {
   "cell_type": "code",
   "execution_count": 39,
   "metadata": {},
   "outputs": [
    {
     "data": {
      "text/html": [
       "<div>\n",
       "<style scoped>\n",
       "    .dataframe tbody tr th:only-of-type {\n",
       "        vertical-align: middle;\n",
       "    }\n",
       "\n",
       "    .dataframe tbody tr th {\n",
       "        vertical-align: top;\n",
       "    }\n",
       "\n",
       "    .dataframe thead th {\n",
       "        text-align: right;\n",
       "    }\n",
       "</style>\n",
       "<table border=\"1\" class=\"dataframe\">\n",
       "  <thead>\n",
       "    <tr style=\"text-align: right;\">\n",
       "      <th></th>\n",
       "      <th>RW</th>\n",
       "      <th>SES</th>\n",
       "      <th>Actual</th>\n",
       "    </tr>\n",
       "    <tr>\n",
       "      <th>Periodo</th>\n",
       "      <th></th>\n",
       "      <th></th>\n",
       "      <th></th>\n",
       "    </tr>\n",
       "  </thead>\n",
       "  <tbody>\n",
       "    <tr>\n",
       "      <th>2018Q1</th>\n",
       "      <td>19545262.0</td>\n",
       "      <td>2.038565e+07</td>\n",
       "      <td>19274565.0</td>\n",
       "    </tr>\n",
       "    <tr>\n",
       "      <th>2018Q2</th>\n",
       "      <td>19274565.0</td>\n",
       "      <td>1.959786e+07</td>\n",
       "      <td>20267591.0</td>\n",
       "    </tr>\n",
       "    <tr>\n",
       "      <th>2018Q3</th>\n",
       "      <td>20267591.0</td>\n",
       "      <td>2.003154e+07</td>\n",
       "      <td>20682782.0</td>\n",
       "    </tr>\n",
       "    <tr>\n",
       "      <th>2018Q4</th>\n",
       "      <td>20682782.0</td>\n",
       "      <td>2.040362e+07</td>\n",
       "      <td>21528745.0</td>\n",
       "    </tr>\n",
       "    <tr>\n",
       "      <th>2019Q1</th>\n",
       "      <td>21528745.0</td>\n",
       "      <td>2.114091e+07</td>\n",
       "      <td>20364355.0</td>\n",
       "    </tr>\n",
       "  </tbody>\n",
       "</table>\n",
       "</div>"
      ],
      "text/plain": [
       "                 RW           SES      Actual\n",
       "Periodo                                      \n",
       "2018Q1   19545262.0  2.038565e+07  19274565.0\n",
       "2018Q2   19274565.0  1.959786e+07  20267591.0\n",
       "2018Q3   20267591.0  2.003154e+07  20682782.0\n",
       "2018Q4   20682782.0  2.040362e+07  21528745.0\n",
       "2019Q1   21528745.0  2.114091e+07  20364355.0"
      ]
     },
     "execution_count": 39,
     "metadata": {},
     "output_type": "execute_result"
    }
   ],
   "source": [
    "# Real time forecasting - use it as a template - expanding window\n",
    "\n",
    "validation=y['2017Q1':].index # the validation period is Q1 2004 onwards\n",
    "start = y.index.get_loc('2017Q1') # numerical index corresponding to Q1 2005\n",
    "\n",
    "pred1 = []\n",
    "pred2 = []\n",
    "actual= []\n",
    "for i in range(start, len(y)):\n",
    "    \n",
    "    actual.append(y.iloc[i]) # actual value\n",
    "    \n",
    "    pred1.append(y.iloc[i-1]) # random walk forecast\n",
    "    \n",
    "    model = sm.tsa.SimpleExpSmoothing(y.iloc[:i]).fit() \n",
    "    pred2.append(model.forecast(1)[0]) # SES forecast\n",
    "\n",
    "columns=['RW', 'SES', 'Actual']\n",
    "results_sm = np.vstack([pred1,pred2,actual]).T\n",
    "results_sm = pd.DataFrame(results_sm, columns=columns, index=validation)\n",
    "results_sm.tail()"
   ]
  },
  {
   "cell_type": "markdown",
   "metadata": {},
   "source": [
    "Aparentemente, el modelo Random Walk genera una proyección levemente mejor a la proyección de Exponential Smoothing de acuerdo con RMSE y al SE."
   ]
  },
  {
   "cell_type": "code",
   "execution_count": 40,
   "metadata": {},
   "outputs": [
    {
     "data": {
      "text/html": [
       "<div>\n",
       "<style scoped>\n",
       "    .dataframe tbody tr th:only-of-type {\n",
       "        vertical-align: middle;\n",
       "    }\n",
       "\n",
       "    .dataframe tbody tr th {\n",
       "        vertical-align: top;\n",
       "    }\n",
       "\n",
       "    .dataframe thead th {\n",
       "        text-align: right;\n",
       "    }\n",
       "</style>\n",
       "<table border=\"1\" class=\"dataframe\">\n",
       "  <thead>\n",
       "    <tr style=\"text-align: right;\">\n",
       "      <th></th>\n",
       "      <th>RMSE</th>\n",
       "      <th>SE</th>\n",
       "    </tr>\n",
       "  </thead>\n",
       "  <tbody>\n",
       "    <tr>\n",
       "      <th>RW</th>\n",
       "      <td>1138575.635</td>\n",
       "      <td>390031.974</td>\n",
       "    </tr>\n",
       "    <tr>\n",
       "      <th>SES</th>\n",
       "      <td>1162316.651</td>\n",
       "      <td>398242.592</td>\n",
       "    </tr>\n",
       "  </tbody>\n",
       "</table>\n",
       "</div>"
      ],
      "text/plain": [
       "            RMSE          SE\n",
       "RW   1138575.635  390031.974\n",
       "SES  1162316.651  398242.592"
      ]
     },
     "execution_count": 40,
     "metadata": {},
     "output_type": "execute_result"
    }
   ],
   "source": [
    "from scipy import stats\n",
    "\n",
    "table = pd.DataFrame(0.0, index=results_sm.columns[:-1], columns=['RMSE','SE'])\n",
    "for i in range(2):\n",
    "    table.iloc[i,0] = sm.tools.eval_measures.rmse(results_sm.iloc[:,i], results_sm.iloc[:,-1])\n",
    "    table.iloc[i,1] = (results_sm.iloc[:,i] - results_sm.iloc[:,-1]).sem()\n",
    "table.round(3)"
   ]
  },
  {
   "cell_type": "markdown",
   "metadata": {},
   "source": [
    "Se confirma que el modelo Random Walk genera una proyección levemente mejor a la proyección de Exponential Smoothing de acuerdo con RMSE y al SE."
   ]
  },
  {
   "cell_type": "markdown",
   "metadata": {},
   "source": [
    "## Proyección\n"
   ]
  },
  {
   "cell_type": "code",
   "execution_count": 41,
   "metadata": {},
   "outputs": [
    {
     "data": {
      "image/png": "[encoded data removed]",
      "text/plain": [
       "<Figure size 1080x720 with 1 Axes>"
      ]
     },
     "metadata": {
      "needs_background": "light"
     },
     "output_type": "display_data"
    }
   ],
   "source": [
    "h=12\n",
    "w=h*10\n",
    "data = y\n",
    "model = sm.tsa.SimpleExpSmoothing\n",
    "pred_index = y.index[-1] + np.array(range(1,h+1))\n",
    "pred_rolling = pd.Series(0,index=pred_index)\n",
    "pred_expanding = pd.Series(0,index=pred_index)\n",
    "orig_exp = None\n",
    "orig_roll = None\n",
    "for i in range(0,h):\n",
    "    current_exp = pd.concat([data, pred_expanding.head(i)])\n",
    "    expanding = model(current_exp).fit()\n",
    "    pred_expanding.update(expanding.forecast(1))\n",
    "    current_roll = pd.concat([data, pred_rolling.head(i)])\n",
    "    rolling = model(current_roll.tail(w)).fit()\n",
    "    pred_rolling.update(rolling.forecast(1))\n",
    "    if i==0:\n",
    "        orig_fit = expanding.fittedvalues\n",
    "        orig_roll = rolling.fittedvalues\n",
    "ax = data[-w:].plot(color='red');#figsize=(9,6))\n",
    "pd.concat([orig_fit[-w:],pred_expanding]).plot(ax=ax,color='blue');\n",
    "pd.concat([orig_roll[-w:],pred_rolling]).plot(ax=ax,color='green');"
   ]
  },
  {
   "cell_type": "code",
   "execution_count": null,
   "metadata": {},
   "outputs": [],
   "source": []
  }
 ],
 "metadata": {
  "kernelspec": {
   "display_name": "Python 3",
   "language": "python",
   "name": "python3"
  },
  "language_info": {
   "codemirror_mode": {
    "name": "ipython",
    "version": 3
   },
   "file_extension": ".py",
   "mimetype": "text/x-python",
   "name": "python",
   "nbconvert_exporter": "python",
   "pygments_lexer": "ipython3",
   "version": "3.6.9"
  }
 },
 "nbformat": 4,
 "nbformat_minor": 2
}
